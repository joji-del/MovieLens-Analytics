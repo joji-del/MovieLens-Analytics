{
 "cells": [
  {
   "cell_type": "markdown",
   "id": "69feace7",
   "metadata": {},
   "source": [
    "# MovieLens Analysis"
   ]
  },
  {
   "cell_type": "markdown",
   "id": "20fb45d7",
   "metadata": {},
   "source": [
    "Подготовка данных к нашему анализу"
   ]
  },
  {
   "cell_type": "code",
   "execution_count": 2,
   "id": "478fdca1",
   "metadata": {},
   "outputs": [
    {
     "name": "stdout",
     "output_type": "stream",
     "text": [
      "26.2 ms ± 2.52 ms per loop (mean ± std. dev. of 7 runs, 10 loops each)\n",
      "27.4 ms ± 92.9 µs per loop (mean ± std. dev. of 7 runs, 10 loops each)\n",
      "19.2 ms ± 118 µs per loop (mean ± std. dev. of 7 runs, 100 loops each)\n",
      "7.78 ms ± 122 µs per loop (mean ± std. dev. of 7 runs, 100 loops each)\n",
      "43.5 ns ± 0.135 ns per loop (mean ± std. dev. of 7 runs, 10,000,000 loops each)\n",
      "299 ns ± 0.405 ns per loop (mean ± std. dev. of 7 runs, 1,000,000 loops each)\n"
     ]
    }
   ],
   "source": [
    "from movielens_analysis import Movies,Ratings,Links,Tags\n",
    "\n",
    "movies = Movies(\"../datasets/ml-latest-small/movies.csv\")\n",
    "%timeit movies = Movies(\"../datasets/ml-latest-small/movies.csv\")\n",
    "ratings = Ratings(\"../datasets/ml-latest-small/ratings.csv\", \"../datasets/ml-latest-small/movies.csv\")\n",
    "%timeit ratings = Ratings(\"../datasets/ml-latest-small/ratings.csv\", \"../datasets/ml-latest-small/movies.csv\")\n",
    "links = Links(\"../datasets/ml-latest-small/links.csv\")\n",
    "%timeit links = Links(\"../datasets/ml-latest-small/links.csv\")\n",
    "tags = Tags(\"../datasets/ml-latest-small/tags.csv\")\n",
    "%timeit tags = Tags(\"../datasets/ml-latest-small/tags.csv\")\n",
    "\n",
    "ratings_movies = ratings.Movies\n",
    "users_instance = ratings.Users(ratings.user_ratings)\n",
    "%timeit atings_movies = ratings.Movies\n",
    "%timeit ratings_users = ratings.Users(ratings.user_ratings)\n"
   ]
  },
  {
   "cell_type": "markdown",
   "id": "5fb4418b",
   "metadata": {},
   "source": [
    "# Movies"
   ]
  },
  {
   "cell_type": "markdown",
   "id": "850b4508",
   "metadata": {},
   "source": [
    "<h3>1. Основная статистика по фильмам"
   ]
  },
  {
   "cell_type": "code",
   "execution_count": 7,
   "id": "4476b1e7",
   "metadata": {},
   "outputs": [
    {
     "name": "stdout",
     "output_type": "stream",
     "text": [
      "137 ns ± 0.129 ns per loop (mean ± std. dev. of 7 runs, 10,000,000 loops each)\n",
      "Всего фильмов в базе: 9742\n"
     ]
    }
   ],
   "source": [
    "%timeit len(movies.movies)\n",
    "print(f\"Всего фильмов в базе: {len(movies.movies)}\")"
   ]
  },
  {
   "cell_type": "markdown",
   "id": "067c3b6d",
   "metadata": {},
   "source": [
    "<h3>2. Анализ по годам выпуска"
   ]
  },
  {
   "cell_type": "code",
   "execution_count": 8,
   "id": "bb80a193",
   "metadata": {},
   "outputs": [
    {
     "name": "stdout",
     "output_type": "stream",
     "text": [
      "8.65 ms ± 206 µs per loop (mean ± std. dev. of 7 runs, 100 loops each)\n",
      "8.61 ms ± 83.3 µs per loop (mean ± std. dev. of 7 runs, 100 loops each)\n",
      "Топ-10 годов по количеству выпущенных фильмов:\n",
      "2002: 311 фильмов\n",
      "2006: 295 фильмов\n",
      "2001: 294 фильмов\n",
      "2007: 284 фильмов\n",
      "2000: 283 фильмов\n",
      "2009: 282 фильмов\n",
      "2003: 279 фильмов\n",
      "2004: 279 фильмов\n",
      "2014: 278 фильмов\n",
      "1996: 276 фильмов\n"
     ]
    }
   ],
   "source": [
    "%timeit movies.dist_by_release()\n",
    "release_years = movies.dist_by_release()\n",
    "%timeit for year, count in list(movies.dist_by_release().items())[:10]: pass\n",
    "# Выведем топ-10 годов с наибольшим количеством выпущенных фильмов\n",
    "print(\"Топ-10 годов по количеству выпущенных фильмов:\")\n",
    "for year, count in list(release_years.items())[:10]:\n",
    "    print(f\"{year}: {count} фильмов\")\n"
   ]
  },
  {
   "cell_type": "code",
   "execution_count": 9,
   "id": "086a8942",
   "metadata": {},
   "outputs": [
    {
     "name": "stdout",
     "output_type": "stream",
     "text": [
      "185 ns ± 0.0998 ns per loop (mean ± std. dev. of 7 runs, 10,000,000 loops each)\n",
      "\n",
      "Самый продуктивный год: 2002 (311 фильмов)\n"
     ]
    }
   ],
   "source": [
    "%timeit most_productive_year = next(iter(release_years))\n",
    "most_productive_year = next(iter(release_years))\n",
    "print(f\"\\nСамый продуктивный год: {most_productive_year} ({release_years[most_productive_year]} фильмов)\")"
   ]
  },
  {
   "cell_type": "code",
   "execution_count": 11,
   "id": "9a47e5f3",
   "metadata": {},
   "outputs": [
    {
     "name": "stdout",
     "output_type": "stream",
     "text": [
      "17.1 ms ± 124 µs per loop (mean ± std. dev. of 7 runs, 100 loops each)\n",
      "Среднее количество фильмов в год: 91.8\n"
     ]
    }
   ],
   "source": [
    "%timeit sum(movies.dist_by_release().values()) / len(movies.dist_by_release())\n",
    "# Среднее количество фильмов в год\n",
    "avg_per_year = sum(release_years.values()) / len(release_years)\n",
    "print(f\"Среднее количество фильмов в год: {avg_per_year:.1f}\")"
   ]
  },
  {
   "cell_type": "markdown",
   "id": "74c70afe",
   "metadata": {},
   "source": [
    "<h3>3. Анализ распределения фильмов по жанрам<h3>"
   ]
  },
  {
   "cell_type": "markdown",
   "id": "3e3f9a08",
   "metadata": {},
   "source": [
    "Используем метод dist_by_genres() для анализа популярности жанров."
   ]
  },
  {
   "cell_type": "code",
   "execution_count": 12,
   "id": "69e89f29",
   "metadata": {},
   "outputs": [
    {
     "name": "stdout",
     "output_type": "stream",
     "text": [
      "4.82 ms ± 75.2 µs per loop (mean ± std. dev. of 7 runs, 100 loops each)\n",
      "4.76 ms ± 22.9 µs per loop (mean ± std. dev. of 7 runs, 100 loops each)\n",
      "\n",
      "Распределение фильмов по жанрам:\n",
      "Drama: 4361 фильмов\n",
      "Comedy: 3756 фильмов\n",
      "Thriller: 1894 фильмов\n",
      "Action: 1828 фильмов\n",
      "Romance: 1596 фильмов\n",
      "Adventure: 1263 фильмов\n",
      "Crime: 1199 фильмов\n",
      "Sci-Fi: 980 фильмов\n",
      "Horror: 978 фильмов\n",
      "Fantasy: 779 фильмов\n",
      "Children: 664 фильмов\n",
      "Animation: 611 фильмов\n",
      "Mystery: 573 фильмов\n",
      "Documentary: 440 фильмов\n",
      "War: 382 фильмов\n",
      "Musical: 334 фильмов\n",
      "Western: 167 фильмов\n",
      "IMAX: 158 фильмов\n",
      "Film-Noir: 87 фильмов\n",
      "(no genres listed): 34 фильмов\n"
     ]
    }
   ],
   "source": [
    "%timeit movies.dist_by_genres()\n",
    "genres_dist = movies.dist_by_genres()\n",
    "\n",
    "%timeit for genre, count in movies.dist_by_genres().items(): pass\n",
    "# Выведем статистику по жанрам\n",
    "print(\"\\nРаспределение фильмов по жанрам:\")\n",
    "for genre, count in genres_dist.items():\n",
    "    print(f\"{genre}: {count} фильмов\")"
   ]
  },
  {
   "cell_type": "markdown",
   "id": "4443f3e0",
   "metadata": {},
   "source": [
    "<h3>4. Фильмы с наибольшим количеством жанров"
   ]
  },
  {
   "cell_type": "code",
   "execution_count": 13,
   "id": "a26894df",
   "metadata": {},
   "outputs": [
    {
     "name": "stdout",
     "output_type": "stream",
     "text": [
      "27.3 ms ± 214 µs per loop (mean ± std. dev. of 7 runs, 10 loops each)\n",
      "\n",
      "Топ-10 фильмов с наибольшим количеством жанров:\n",
      "Rubber (2010): 10 жанров\n",
      "Patlabor: The Movie (Kidô keisatsu patorebâ: The Movie) (1989): 8 жанров\n",
      "Mulan (1998): 7 жанров\n",
      "Who Framed Roger Rabbit? (1988): 7 жанров\n",
      "Osmosis Jones (2001): 7 жанров\n",
      "Interstate 60 (2002): 7 жанров\n",
      "Robots (2005): 7 жанров\n",
      "Pulse (2006): 7 жанров\n",
      "Aqua Teen Hunger Force Colon Movie Film for Theaters (2007): 7 жанров\n",
      "Enchanted (2007): 7 жанров\n"
     ]
    }
   ],
   "source": [
    "%timeit movies.most_genres(10)\n",
    "n = 10  # Количество фильмов для анализа\n",
    "multi_genre_movies = movies.most_genres(n)\n",
    "\n",
    "print(f\"\\nТоп-{n} фильмов с наибольшим количеством жанров:\")\n",
    "for title, count in multi_genre_movies.items():\n",
    "    print(f\"{title}: {count} жанров\")"
   ]
  },
  {
   "cell_type": "code",
   "execution_count": 14,
   "id": "14bb264b",
   "metadata": {},
   "outputs": [
    {
     "name": "stdout",
     "output_type": "stream",
     "text": [
      "1.06 ms ± 4.98 µs per loop (mean ± std. dev. of 7 runs, 1,000 loops each)\n",
      "3.77 ms ± 130 µs per loop (mean ± std. dev. of 7 runs, 100 loops each)\n",
      "6.92 ms ± 11.4 µs per loop (mean ± std. dev. of 7 runs, 100 loops each)\n",
      "\n",
      "Количество фильмов без указания жанра: 34\n",
      "Фильмов с одним жанром: 2817\n",
      "Фильмов с несколькими жанрами: 6891\n"
     ]
    }
   ],
   "source": [
    "%timeit sum(1 for movie in movies.movies if '(no genres listed)' in movie['genres'])\n",
    "%timeit sum(1 for movie in movies.movies if len(movie['genres']) == 1 and '(no genres listed)' not in movie['genres'])\n",
    "%timeit sum(1 for movie in movies.movies if len(movie['genres']) > 1)\n",
    "# Анализ фильмов без указания жанра\n",
    "no_genre_count = sum(1 for movie in movies.movies if '(no genres listed)' in movie['genres'])\n",
    "print(f\"\\nКоличество фильмов без указания жанра: {no_genre_count}\")\n",
    "\n",
    "# Соотношение фильмов с одним и несколькими жанрами\n",
    "single_genre = sum(1 for movie in movies.movies if len(movie['genres']) == 1 and '(no genres listed)' not in movie['genres'])\n",
    "multi_genre = sum(1 for movie in movies.movies if len(movie['genres']) > 1)\n",
    "\n",
    "print(f\"Фильмов с одним жанром: {single_genre}\")\n",
    "print(f\"Фильмов с несколькими жанрами: {multi_genre}\")"
   ]
  },
  {
   "cell_type": "code",
   "execution_count": 15,
   "id": "7a7a7fb0",
   "metadata": {},
   "outputs": [
    {
     "name": "stdout",
     "output_type": "stream",
     "text": [
      "4.78 ms ± 25.7 µs per loop (mean ± std. dev. of 7 runs, 100 loops each)\n",
      "4.81 ms ± 128 µs per loop (mean ± std. dev. of 7 runs, 100 loops each)\n",
      "191 ns ± 0.0941 ns per loop (mean ± std. dev. of 7 runs, 10,000,000 loops each)\n",
      "\n",
      "Топ-5 самых популярных жанров:\n",
      "Drama: 4361 фильмов\n",
      "Comedy: 3756 фильмов\n",
      "Thriller: 1894 фильмов\n",
      "Action: 1828 фильмов\n",
      "Romance: 1596 фильмов\n",
      "\n",
      "Самый популярный жанр: Drama (4361 фильмов)\n"
     ]
    }
   ],
   "source": [
    "%timeit movies.dist_by_genres()\n",
    "genre_stats = movies.dist_by_genres()\n",
    "\n",
    "%timeit for genre, count in list(movies.dist_by_genres().items())[:5]: pass\n",
    "%timeit next(iter(genre_stats))\n",
    "# Топ-5 самых популярных жанров\n",
    "print(\"\\nТоп-5 самых популярных жанров:\")\n",
    "for genre, count in list(genre_stats.items())[:5]:\n",
    "    print(f\"{genre}: {count} фильмов\")\n",
    "\n",
    "# Самый популярный жанр\n",
    "most_popular_genre = next(iter(genre_stats))\n",
    "print(f\"\\nСамый популярный жанр: {most_popular_genre} ({genre_stats[most_popular_genre]} фильмов)\")"
   ]
  },
  {
   "cell_type": "code",
   "execution_count": 16,
   "id": "81755b36",
   "metadata": {},
   "outputs": [
    {
     "name": "stdout",
     "output_type": "stream",
     "text": [
      "7.75 ms ± 27.9 µs per loop (mean ± std. dev. of 7 runs, 100 loops each)\n",
      "4.73 ms ± 4.14 µs per loop (mean ± std. dev. of 7 runs, 100 loops each)\n",
      "22.9 ms ± 980 µs per loop (mean ± std. dev. of 7 runs, 10 loops each)\n",
      "\n",
      "Процент фильмов с несколькими жанрами: 70.7%\n",
      "Всего уникальных жанров: 20\n",
      "Среднее количество жанров на фильм: 2.26\n"
     ]
    }
   ],
   "source": [
    "%timeit (sum(1 for m in movies.movies if len(m['genres']) > 1 and '(no genres listed)' not in m['genres']) / len(movies.movies)) * 100\n",
    "%timeit len(movies.dist_by_genres())\n",
    "%timeit sum(len([g for g in m['genres'] if g != '(no genres listed)']) for m in movies.movies) / len(movies.movies)\n",
    "\n",
    "# Процент фильмов с несколькими жанрами\n",
    "multi_genre_count = sum(1 for m in movies.movies if len(m['genres']) > 1 and '(no genres listed)' not in m['genres'])\n",
    "multi_genre_percent = (multi_genre_count / len(movies.movies)) * 100\n",
    "print(f\"\\nПроцент фильмов с несколькими жанрами: {multi_genre_percent:.1f}%\")\n",
    "\n",
    "# Жанровое разнообразие\n",
    "unique_genres = len(genre_stats)\n",
    "print(f\"Всего уникальных жанров: {unique_genres}\")\n",
    "\n",
    "# Среднее количество жанров на фильм (исключая 'no genres listed')\n",
    "total_genres = sum(len([g for g in m['genres'] if g != '(no genres listed)']) for m in movies.movies)\n",
    "avg_genres_per_movie = total_genres / len(movies.movies)\n",
    "print(f\"Среднее количество жанров на фильм: {avg_genres_per_movie:.2f}\")"
   ]
  },
  {
   "cell_type": "code",
   "execution_count": 17,
   "id": "61f578e1",
   "metadata": {},
   "outputs": [
    {
     "name": "stdout",
     "output_type": "stream",
     "text": [
      "27.3 ms ± 121 µs per loop (mean ± std. dev. of 7 runs, 10 loops each)\n",
      "8.86 ms ± 110 µs per loop (mean ± std. dev. of 7 runs, 100 loops each)\n",
      "8.78 ms ± 11.9 µs per loop (mean ± std. dev. of 7 runs, 100 loops each)\n",
      "\n",
      "Пример фильма с множеством жанров: Rubber (2010)\n",
      "Самый старый год в базе: 1902\n",
      "Самый новый год в базе: 2018\n"
     ]
    }
   ],
   "source": [
    "%timeit next(iter(movies.most_genres(10)))\n",
    "%timeit min(int(y) for y in movies.dist_by_release().keys())\n",
    "%timeit max(int(y) for y in movies.dist_by_release().keys())\n",
    "\n",
    "top_multi_genre = movies.most_genres(10)\n",
    "# Пример фильма с максимальным количеством жанров\n",
    "sample_movie = next(iter(top_multi_genre))\n",
    "print(f\"\\nПример фильма с множеством жанров: {sample_movie}\")\n",
    "\n",
    "# Пример самого старого фильма\n",
    "oldest_year = min(int(y) for y in release_years.keys())\n",
    "print(f\"Самый старый год в базе: {oldest_year}\")\n",
    "\n",
    "# Пример самого нового фильма\n",
    "newest_year = max(int(y) for y in release_years.keys())\n",
    "print(f\"Самый новый год в базе: {newest_year}\")"
   ]
  },
  {
   "cell_type": "markdown",
   "id": "f6cfeeb0",
   "metadata": {},
   "source": [
    "# Ratings"
   ]
  },
  {
   "cell_type": "markdown",
   "id": "66393f7f",
   "metadata": {},
   "source": [
    "<h2>1. Общая статистика по данным"
   ]
  },
  {
   "cell_type": "code",
   "execution_count": 23,
   "id": "d5a48646",
   "metadata": {},
   "outputs": [
    {
     "name": "stdout",
     "output_type": "stream",
     "text": [
      "131 ns ± 0.0721 ns per loop (mean ± std. dev. of 7 runs, 10,000,000 loops each)\n",
      "131 ns ± 0.152 ns per loop (mean ± std. dev. of 7 runs, 10,000,000 loops each)\n",
      "128 ns ± 3.45 ns per loop (mean ± std. dev. of 7 runs, 10,000,000 loops each)\n",
      "Всего загружено оценок: 1000\n",
      "Всего уникальных фильмов: 9742\n",
      "Всего уникальных пользователей: 7\n"
     ]
    }
   ],
   "source": [
    "%timeit len(ratings.ratings)\n",
    "%timeit len(ratings.movies)\n",
    "%timeit len(ratings.user_ratings)\n",
    "\n",
    "print(f\"Всего загружено оценок: {len(ratings.ratings)}\")\n",
    "print(f\"Всего уникальных фильмов: {len(ratings.movies)}\")\n",
    "print(f\"Всего уникальных пользователей: {len(ratings.user_ratings)}\")"
   ]
  },
  {
   "cell_type": "markdown",
   "id": "9b5962ec",
   "metadata": {},
   "source": [
    "<h2>2. Анализ фильмов через класс Movies<h2>\n",
    "<h3>2.1. Распределение оценок по годам<h3>"
   ]
  },
  {
   "cell_type": "code",
   "execution_count": 27,
   "id": "dc2a25b9",
   "metadata": {},
   "outputs": [
    {
     "name": "stdout",
     "output_type": "stream",
     "text": [
      "284 µs ± 12.2 µs per loop (mean ± std. dev. of 7 runs, 1,000 loops each)\n",
      "814 ns ± 2.83 ns per loop (mean ± std. dev. of 7 runs, 1,000,000 loops each)\n",
      "394 ns ± 10.7 ns per loop (mean ± std. dev. of 7 runs, 1,000,000 loops each)\n",
      "399 ns ± 13.7 ns per loop (mean ± std. dev. of 7 runs, 1,000,000 loops each)\n",
      "\n",
      "Распределение оценок по годам (первые 5 записей):\n",
      "1996: 358 оценок\n",
      "1999: 82 оценок\n",
      "2000: 296 оценок\n",
      "2001: 70 оценок\n",
      "2005: 121 оценок\n",
      "\n",
      "Самый ранний год с оценками: 1996\n",
      "Самый поздний год с оценками: 2015\n"
     ]
    }
   ],
   "source": [
    "%timeit ratings_movies.dist_by_year()\n",
    "ratings_by_year = ratings_movies.dist_by_year()\n",
    "\n",
    "%timeit for year, count in list(ratings_by_year.items())[:5]:pass\n",
    "%timeit min(ratings_by_year.keys())\n",
    "%timeit max(ratings_by_year.keys())\n",
    "\n",
    "print(\"\\nРаспределение оценок по годам (первые 5 записей):\")\n",
    "for year, count in list(ratings_by_year.items())[:5]:\n",
    "    print(f\"{year}: {count} оценок\")\n",
    "\n",
    "print(f\"\\nСамый ранний год с оценками: {min(ratings_by_year.keys())}\")\n",
    "print(f\"Самый поздний год с оценками: {max(ratings_by_year.keys())}\")"
   ]
  },
  {
   "cell_type": "markdown",
   "id": "0b16ea84",
   "metadata": {},
   "source": [
    "<h3>2.2. Распределение оценок по рейтингам<h3>"
   ]
  },
  {
   "cell_type": "code",
   "execution_count": null,
   "id": "1c3bd6e1",
   "metadata": {},
   "outputs": [
    {
     "name": "stdout",
     "output_type": "stream",
     "text": [
      "268 µs ± 1.36 µs per loop (mean ± std. dev. of 7 runs, 1,000 loops each)\n",
      "616 ns ± 10.7 ns per loop (mean ± std. dev. of 7 runs, 1,000,000 loops each)\n",
      "9.56 µs ± 2.96 ns per loop (mean ± std. dev. of 7 runs, 100,000 loops each)\n",
      "\n",
      "Распределение оценок по рейтингам:\n",
      "Рейтинг 0.5: 24 оценок\n",
      "Рейтинг 1.0: 39 оценок\n",
      "Рейтинг 1.5: 11 оценок\n",
      "Рейтинг 2.0: 57 оценок\n",
      "Рейтинг 2.5: 7 оценок\n",
      "Рейтинг 3.0: 253 оценок\n",
      "Рейтинг 3.5: 17 оценок\n",
      "Рейтинг 4.0: 292 оценок\n",
      "Рейтинг 4.5: 33 оценок\n",
      "Рейтинг 5.0: 267 оценок\n",
      "\n",
      "Самый популярный рейтинг: 4.0 (292 оценок)\n"
     ]
    }
   ],
   "source": [
    "%timeit ratings_movies.dist_by_rating()\n",
    "ratings_distribution = ratings_movies.dist_by_rating()\n",
    "\n",
    "%timeit for rating, count in ratings_distribution.items():pass\n",
    "%timeit most_common_rating = max(ratings_distribution.items(), key=lambda x: x[1])\n",
    "\n",
    "print(\"\\nРаспределение оценок по рейтингам:\")\n",
    "for rating, count in ratings_distribution.items():\n",
    "    print(f\"Рейтинг {rating}: {count} оценок\")\n",
    "\n",
    "most_common_rating = max(ratings_distribution.items(), key=lambda x: x[1])\n",
    "print(f\"\\nСамый популярный рейтинг: {most_common_rating[0]} ({most_common_rating[1]} оценок)\")"
   ]
  },
  {
   "cell_type": "markdown",
   "id": "8f4aedb6",
   "metadata": {},
   "source": [
    "<h3>2.3. Топ фильмов по количеству оценок"
   ]
  },
  {
   "cell_type": "code",
   "execution_count": null,
   "id": "1e5ab592",
   "metadata": {},
   "outputs": [
    {
     "name": "stdout",
     "output_type": "stream",
     "text": [
      "253 μs ± 9.32 μs per loop (mean ± std. dev. of 7 runs, 1,000 loops each)\n",
      "1.65 μs ± 15.7 ns per loop (mean ± std. dev. of 7 runs, 1,000,000 loops each)\n",
      "\n",
      "Топ-5 фильмов по количеству оценок:\n",
      "Usual Suspects, The (1995): 4 оценок\n",
      "Pulp Fiction (1994): 4 оценок\n",
      "Fugitive, The (1993): 4 оценок\n",
      "Schindler's List (1993): 4 оценок\n",
      "Batman (1989): 4 оценок\n"
     ]
    }
   ],
   "source": [
    "%timeit ratings_movies.top_by_num_of_ratings(5)\n",
    "top_movies_by_ratings_count = ratings_movies.top_by_num_of_ratings(5)\n",
    "\n",
    "%timeit for movie_id, count in top_movies_by_ratings_count.items():title = ratings_movies.get_movie_title(movie_id)\n",
    "\n",
    "print(\"\\nТоп-5 фильмов по количеству оценок:\")\n",
    "for movie_id, count in top_movies_by_ratings_count.items():\n",
    "    title = ratings_movies.get_movie_title(movie_id)\n",
    "    print(f\"{title}: {count} оценок\")"
   ]
  },
  {
   "cell_type": "markdown",
   "id": "59695be8",
   "metadata": {},
   "source": [
    "<h3>2.4. Топ фильмов по среднему рейтингу"
   ]
  },
  {
   "cell_type": "code",
   "execution_count": null,
   "id": "80f0f2d2",
   "metadata": {},
   "outputs": [
    {
     "name": "stdout",
     "output_type": "stream",
     "text": [
      "1.53 ms ± 44.8 μs per loop (mean ± std. dev. of 7 runs, 1,000 loops each)\n",
      "1.67 μs ± 43.6 ns per loop (mean ± std. dev. of 7 runs, 1,000,000 loops each)\n",
      "\n",
      "Топ-5 фильмов по среднему рейтингу:\n",
      "Bottle Rocket (1996): 5.0 средний рейтинг\n",
      "Canadian Bacon (1995): 5.0 средний рейтинг\n",
      "Star Wars: Episode IV - A New Hope (1977): 5.0 средний рейтинг\n",
      "James and the Giant Peach (1996): 5.0 средний рейтинг\n",
      "Wizard of Oz, The (1939): 5.0 средний рейтинг\n"
     ]
    }
   ],
   "source": [
    "%timeit ratings_movies.top_by_ratings(5, 'average')\n",
    "top_movies_by_avg = ratings_movies.top_by_ratings(5, 'average')\n",
    "\n",
    "%timeit for movie_id, avg_rating in top_movies_by_avg.items(): title = ratings_movies.get_movie_title(movie_id)\n",
    "\n",
    "print(\"\\nТоп-5 фильмов по среднему рейтингу:\")\n",
    "for movie_id, avg_rating in top_movies_by_avg.items():\n",
    "    title = ratings_movies.get_movie_title(movie_id)\n",
    "    print(f\"{title}: {avg_rating} средний рейтинг\")"
   ]
  },
  {
   "cell_type": "markdown",
   "id": "7c7acca5",
   "metadata": {},
   "source": [
    "<h3>2.5. Самые спорные фильмы (по дисперсии оценок)"
   ]
  },
  {
   "cell_type": "code",
   "execution_count": null,
   "id": "512937b8",
   "metadata": {},
   "outputs": [
    {
     "name": "stdout",
     "output_type": "stream",
     "text": [
      "1.69 ms ± 56.9 μs per loop (mean ± std. dev. of 7 runs, 1,000 loops each)\n",
      "1.73 μs ± 33.1 ns per loop (mean ± std. dev. of 7 runs, 1,000,000 loops each)\n",
      "\n",
      "Топ-5 самых спорных фильмов (по дисперсии оценок):\n",
      "Bambi (1942): дисперсия 5.06\n",
      "Rescuers, The (1977): дисперсия 5.06\n",
      "My Fair Lady (1964): дисперсия 5.06\n",
      "Matrix, The (1999): дисперсия 4.0\n",
      "Schindler's List (1993): дисперсия 3.42\n"
     ]
    }
   ],
   "source": [
    "%timeit ratings_movies.top_controversial(5)\n",
    "controversial_movies = ratings_movies.top_controversial(5)\n",
    "\n",
    "%timeit for movie_id, variance in controversial_movies.items(): title = ratings_movies.get_movie_title(movie_id)\n",
    "\n",
    "print(\"\\nТоп-5 самых спорных фильмов (по дисперсии оценок):\")\n",
    "for movie_id, variance in controversial_movies.items():\n",
    "    title = ratings_movies.get_movie_title(movie_id)\n",
    "    print(f\"{title}: дисперсия {variance}\")"
   ]
  },
  {
   "cell_type": "markdown",
   "id": "e5a431cd",
   "metadata": {},
   "source": [
    "<h2>3. Анализ пользователей через класс Users"
   ]
  },
  {
   "cell_type": "markdown",
   "id": "d30880c5",
   "metadata": {},
   "source": [
    "<h3>3.1. Самые активные пользователи"
   ]
  },
  {
   "cell_type": "code",
   "execution_count": null,
   "id": "c4c498cd",
   "metadata": {},
   "outputs": [
    {
     "name": "stdout",
     "output_type": "stream",
     "text": [
      "11 µs ± 15.5 ns per loop (mean ± std. dev. of 7 runs, 100,000 loops each)\n",
      "394 ns ± 0.169 ns per loop (mean ± std. dev. of 7 runs, 1,000,000 loops each)\n",
      "\n",
      "Топ-5 самых активных пользователей:\n",
      "Пользователь 6: 314 оценок\n",
      "Пользователь 1: 232 оценок\n",
      "Пользователь 4: 216 оценок\n",
      "Пользователь 7: 126 оценок\n",
      "Пользователь 5: 44 оценок\n"
     ]
    }
   ],
   "source": [
    "%timeit users_instance.rating_counts_distribution(5)\n",
    "active_users = users_instance.rating_counts_distribution(5)\n",
    "\n",
    "%timeit for user_id, count in active_users.items(): pass\n",
    "\n",
    "print(\"\\nТоп-5 самых активных пользователей:\")\n",
    "for user_id, count in active_users.items():\n",
    "    print(f\"Пользователь {user_id}: {count} оценок\")"
   ]
  },
  {
   "cell_type": "markdown",
   "id": "a29a46dd",
   "metadata": {},
   "source": [
    "<h3>3.2. Пользователи с самыми высокими средними оценками"
   ]
  },
  {
   "cell_type": "code",
   "execution_count": null,
   "id": "e36b776c",
   "metadata": {},
   "outputs": [
    {
     "name": "stdout",
     "output_type": "stream",
     "text": [
      "98.1 μs ± 2.93 μs per loop (mean ± std. dev. of 7 runs, 10,000 loops each)\n",
      "305 ns ± 8.84 ns per loop (mean ± std. dev. of 7 runs, 1,000,000 loops each)\n",
      "\n",
      "Топ-5 пользователей с самыми высокими средними оценками:\n",
      "Пользователь 1: средний рейтинг 4.37\n",
      "Пользователь 2: средний рейтинг 3.95\n",
      "Пользователь 5: средний рейтинг 3.64\n",
      "Пользователь 4: средний рейтинг 3.56\n",
      "Пользователь 6: средний рейтинг 3.49\n"
     ]
    }
   ],
   "source": [
    "%timeit users_instance.rating_stats_distribution(5, 'average')\n",
    "users_by_avg = users_instance.rating_stats_distribution(5, 'average')\n",
    "\n",
    "%timeit for user_id, avg_rating in users_by_avg.items():pass\n",
    "\n",
    "print(\"\\nТоп-5 пользователей с самыми высокими средними оценками:\")\n",
    "for user_id, avg_rating in users_by_avg.items():\n",
    "    print(f\"Пользователь {user_id}: средний рейтинг {avg_rating}\")"
   ]
  },
  {
   "cell_type": "markdown",
   "id": "1f2987b4",
   "metadata": {},
   "source": [
    "<h3>3.3. Пользователи с самыми нестабильными оценками"
   ]
  },
  {
   "cell_type": "code",
   "execution_count": null,
   "id": "62d166c8",
   "metadata": {},
   "outputs": [
    {
     "name": "stdout",
     "output_type": "stream",
     "text": [
      "304 μs ± 18 μs per loop (mean ± std. dev. of 7 runs, 1,000 loops each)\n",
      "518 ns ± 33.5 ns per loop (mean ± std. dev. of 7 runs, 1,000,000 loops each)\n",
      "\n",
      "Топ-5 пользователей с самой большой дисперсией оценок:\n",
      "Пользователь 3: дисперсия 4.26\n",
      "Пользователь 4: дисперсия 1.72\n",
      "Пользователь 7: дисперсия 1.65\n",
      "Пользователь 5: дисперсия 0.96\n",
      "Пользователь 6: дисперсия 0.72\n"
     ]
    }
   ],
   "source": [
    "%timeit users_instance.top_by_variance(5)\n",
    "users_by_variance = users_instance.top_by_variance(5)\n",
    "\n",
    "%timeit for user_id, variance in users_by_variance.items():pass\n",
    "\n",
    "print(\"\\nТоп-5 пользователей с самой большой дисперсией оценок:\")\n",
    "for user_id, variance in users_by_variance.items():\n",
    "    print(f\"Пользователь {user_id}: дисперсия {variance}\")"
   ]
  },
  {
   "cell_type": "markdown",
   "id": "b813ba70",
   "metadata": {},
   "source": [
    "<h2>4. Сравнительный анализ"
   ]
  },
  {
   "cell_type": "markdown",
   "id": "529268b6",
   "metadata": {},
   "source": [
    "<h3>4.1. Сравнение средних и медианных рейтингов"
   ]
  },
  {
   "cell_type": "code",
   "execution_count": null,
   "id": "7f9f59fd",
   "metadata": {},
   "outputs": [
    {
     "name": "stdout",
     "output_type": "stream",
     "text": [
      "1.64 ms ± 82.3 μs per loop (mean ± std. dev. of 7 runs, 1,000 loops each)\n",
      "1.76 ms ± 42.3 μs per loop (mean ± std. dev. of 7 runs, 1,000 loops each)\n",
      "4.27 μs ± 204 ns per loop (mean ± std. dev. of 7 runs, 100,000 loops each)\n",
      "\n",
      "Сравнение топ-5 фильмов по среднему и медианному рейтингу:\n",
      "1. По среднему: Bottle Rocket (1996) | По медиане: Bottle Rocket (1996)\n",
      "2. По среднему: Canadian Bacon (1995) | По медиане: Canadian Bacon (1995)\n",
      "3. По среднему: Star Wars: Episode IV - A New Hope (1977) | По медиане: Star Wars: Episode IV - A New Hope (1977)\n",
      "4. По среднему: James and the Giant Peach (1996) | По медиане: Tommy Boy (1995)\n",
      "5. По среднему: Wizard of Oz, The (1939) | По медиане: Forrest Gump (1994)\n"
     ]
    }
   ],
   "source": [
    "%timeit ratings_movies.top_by_ratings(5, 'average')\n",
    "%timeit ratings_movies.top_by_ratings(5, 'median')\n",
    "\n",
    "top_by_avg = ratings_movies.top_by_ratings(5, 'average')\n",
    "top_by_median = ratings_movies.top_by_ratings(5, 'median')\n",
    "\n",
    "def get_titles():\n",
    "    for i, (movie_id_avg, (movie_id_med, _)) in enumerate(zip(top_by_avg.items(), top_by_median.items())):\n",
    "        title_avg = ratings_movies.get_movie_title(movie_id_avg[0])\n",
    "        title_med = ratings_movies.get_movie_title(movie_id_med)\n",
    "%timeit get_titles()\n",
    "\n",
    "print(\"\\nСравнение топ-5 фильмов по среднему и медианному рейтингу:\")\n",
    "for i, (movie_id_avg, (movie_id_med, _)) in enumerate(zip(top_by_avg.items(), top_by_median.items())):\n",
    "    title_avg = ratings_movies.get_movie_title(movie_id_avg[0])\n",
    "    title_med = ratings_movies.get_movie_title(movie_id_med)\n",
    "    print(f\"{i+1}. По среднему: {title_avg} | По медиане: {title_med}\")"
   ]
  },
  {
   "cell_type": "markdown",
   "id": "26eeb8a1",
   "metadata": {},
   "source": [
    "<h3>4.2. Анализ разницы между популярными и спорными фильмами<h3>"
   ]
  },
  {
   "cell_type": "code",
   "execution_count": null,
   "id": "ca3f7481",
   "metadata": {},
   "outputs": [
    {
     "name": "stdout",
     "output_type": "stream",
     "text": [
      "251 μs ± 25.3 μs per loop (mean ± std. dev. of 7 runs, 1,000 loops each)\n",
      "1.59 ms ± 57 μs per loop (mean ± std. dev. of 7 runs, 1,000 loops each)\n",
      "848 ns ± 59.6 ns per loop (mean ± std. dev. of 7 runs, 1,000,000 loops each)\n",
      "\n",
      "Количество фильмов, одновременно популярных и спорных: 17\n"
     ]
    }
   ],
   "source": [
    "%timeit set(ratings_movies.top_by_num_of_ratings(50).keys())\n",
    "%timeit set(ratings_movies.top_controversial(50).keys())\n",
    "popular_movies = set(ratings_movies.top_by_num_of_ratings(50).keys())\n",
    "controversial_movies = set(ratings_movies.top_controversial(50).keys())\n",
    "\n",
    "%timeit popular_movies & controversial_movies\n",
    "intersection = popular_movies & controversial_movies\n",
    "print(f\"\\nКоличество фильмов, одновременно популярных и спорных: {len(intersection)}\")"
   ]
  },
  {
   "cell_type": "markdown",
   "id": "cdf5464d",
   "metadata": {},
   "source": [
    "<h2>5. Дополнительные метрики"
   ]
  },
  {
   "cell_type": "markdown",
   "id": "5f142b62",
   "metadata": {},
   "source": [
    "<h3>5.1. Общая статистика по рейтингам"
   ]
  },
  {
   "cell_type": "code",
   "execution_count": null,
   "id": "078e272f",
   "metadata": {},
   "outputs": [
    {
     "name": "stdout",
     "output_type": "stream",
     "text": [
      "124 μs ± 4.46 μs per loop (mean ± std. dev. of 7 runs, 10,000 loops each)\n",
      "18 μs ± 633 ns per loop (mean ± std. dev. of 7 runs, 100,000 loops each)\n",
      "18.1 μs ± 440 ns per loop (mean ± std. dev. of 7 runs, 100,000 loops each)\n",
      "8.7 μs ± 219 ns per loop (mean ± std. dev. of 7 runs, 100,000 loops each)\n",
      "\n",
      "Общая статистика по всем оценкам:\n",
      "Минимальный рейтинг: 0.5\n",
      "Максимальный рейтинг: 5.0\n",
      "Средний рейтинг: 3.67\n"
     ]
    }
   ],
   "source": [
    "%timeit [r for ratings in ratings.movie_ratings.values() for r, _ in ratings]\n",
    "all_ratings = [r for ratings in ratings.movie_ratings.values() for r, _ in ratings]\n",
    "\n",
    "%timeit min(all_ratings)\n",
    "%timeit max(all_ratings)\n",
    "%timeit sum(all_ratings)/len(all_ratings)\n",
    "\n",
    "print(\"\\nОбщая статистика по всем оценкам:\")\n",
    "print(f\"Минимальный рейтинг: {min(all_ratings)}\")\n",
    "print(f\"Максимальный рейтинг: {max(all_ratings)}\")\n",
    "print(f\"Средний рейтинг: {sum(all_ratings)/len(all_ratings):.2f}\")"
   ]
  },
  {
   "cell_type": "markdown",
   "id": "0d9d235c",
   "metadata": {},
   "source": [
    "<h3>5.2. Анализ пользовательской активности"
   ]
  },
  {
   "cell_type": "code",
   "execution_count": null,
   "id": "70ab6237",
   "metadata": {},
   "outputs": [
    {
     "name": "stdout",
     "output_type": "stream",
     "text": [
      "1.82 µs ± 1.42 ns per loop (mean ± std. dev. of 7 runs, 1,000,000 loops each)\n",
      "262 ns ± 0.3 ns per loop (mean ± std. dev. of 7 runs, 1,000,000 loops each)\n",
      "266 ns ± 0.249 ns per loop (mean ± std. dev. of 7 runs, 1,000,000 loops each)\n",
      "285 ns ± 10.2 ns per loop (mean ± std. dev. of 7 runs, 1,000,000 loops each)\n",
      "\n",
      "Статистика по пользовательской активности:\n",
      "Минимальное количество оценок у пользователя: 29\n",
      "Максимальное количество оценок у пользователя: 314\n",
      "Среднее количество оценок на пользователя: 142.86\n"
     ]
    }
   ],
   "source": [
    "%timeit [len(ratings) for ratings in ratings.user_ratings.values()]\n",
    "user_activity = [len(ratings) for ratings in ratings.user_ratings.values()]\n",
    "\n",
    "%timeit min(user_activity)\n",
    "%timeit max(user_activity)\n",
    "%timeit sum(user_activity)/len(user_activity)\n",
    "\n",
    "print(\"\\nСтатистика по пользовательской активности:\")\n",
    "print(f\"Минимальное количество оценок у пользователя: {min(user_activity)}\")\n",
    "print(f\"Максимальное количество оценок у пользователя: {max(user_activity)}\")\n",
    "print(f\"Среднее количество оценок на пользователя: {sum(user_activity)/len(user_activity):.2f}\")"
   ]
  },
  {
   "cell_type": "markdown",
   "id": "da7af119",
   "metadata": {},
   "source": [
    "# Links"
   ]
  },
  {
   "cell_type": "markdown",
   "id": "9274bb22",
   "metadata": {},
   "source": [
    "\n",
    "<h2>6. Извлечение детали фильма"
   ]
  },
  {
   "cell_type": "markdown",
   "id": "096ff464",
   "metadata": {},
   "source": [
    "Эта функция извлекает начальные данные о фильмах из внешнего источника. Она принимает список идентификаторов фильмов и список полей данных для загрузки, обеспечивая предварительное получение необходимой информации для дальнейшей обработки."
   ]
  },
  {
   "cell_type": "code",
   "execution_count": 17,
   "id": "1dbe32a1",
   "metadata": {},
   "outputs": [
    {
     "name": "stdout",
     "output_type": "stream",
     "text": [
      "Предварительная загрузка данных для первых 100 фильмов...\n",
      "4min 30s ± 12.5 s per loop (mean ± std. dev. of 7 runs, 1 loop each)\n",
      "Предварительная загрузка данных завершена.\n"
     ]
    }
   ],
   "source": [
    "first_100_movie_ids = [link['movieId'] for link in links.links[:100]]\n",
    "fields_to_fetch_initial = ['Director', 'Budget', 'Runtime', 'Cumulative Worldwide Gross', 'Title']\n",
    "print(f\"Предварительная загрузка данных для первых 100 фильмов...\")\n",
    "%timeit links.fetch_initial_data(first_100_movie_ids, fields_to_fetch_initial)\n",
    "print(\"Предварительная загрузка данных завершена.\")"
   ]
  },
  {
   "cell_type": "markdown",
   "id": "5179c1ed",
   "metadata": {},
   "source": [
    "<h2>7. Анализ Топ-N: Представление Результатов\n",
    "<h3>7.1. Вывод топ-5 режиссеров"
   ]
  },
  {
   "cell_type": "markdown",
   "id": "062b16d6",
   "metadata": {},
   "source": [
    "Функция определяет и возвращает список из топ-5 режиссеров, отсортированных по количеству снятых ими фильмов, на основе имеющихся данных."
   ]
  },
  {
   "cell_type": "code",
   "execution_count": 18,
   "id": "f2e6f5eb",
   "metadata": {},
   "outputs": [
    {
     "name": "stdout",
     "output_type": "stream",
     "text": [
      "183 µs ± 1.2 µs per loop (mean ± std. dev. of 7 runs, 10,000 loops each)\n",
      "Top 5 режиссеров:\n",
      "Martin Scorsese: 2\n",
      "Robert Rodriguez: 2\n",
      "John Lasseter: 1\n",
      "Joe Johnston: 1\n",
      "Howard Deutch: 1\n"
     ]
    }
   ],
   "source": [
    "%timeit links.top_directors(5)\n",
    "\n",
    "print(f\"Top {5} режиссеров:\")\n",
    "top_directors_result = links.top_directors(5)\n",
    "\n",
    "for director, count in top_directors_result.items():\n",
    "    print(f\"{director}: {count}\")"
   ]
  },
  {
   "cell_type": "markdown",
   "id": "8945b9a1",
   "metadata": {},
   "source": [
    "<h3>7.1. Вывод топ-5 дорогих фильмов"
   ]
  },
  {
   "cell_type": "markdown",
   "id": "ab19a35c",
   "metadata": {},
   "source": [
    "Функция предназначена для определения и извлечения информации о пяти самых дорогостоящих фильмах из доступных данных. Она возвращает список или словарь, содержащий названия этих фильмов и их бюджеты, позволяя пользователю узнать, какие фильмы имели самые высокие производственные затраты."
   ]
  },
  {
   "cell_type": "code",
   "execution_count": 19,
   "id": "5ea30368",
   "metadata": {},
   "outputs": [
    {
     "name": "stdout",
     "output_type": "stream",
     "text": [
      "881 µs ± 1.2 µs per loop (mean ± std. dev. of 7 runs, 1,000 loops each)\n",
      "Top 5 Most Expensive Movies:\n",
      "Cutthroat Island: 98000000\n",
      "Braveheart: 72000000\n",
      "Money Train: 68000000\n",
      "Jumanji: 65000000\n",
      "The American President: 62000000\n"
     ]
    }
   ],
   "source": [
    "%timeit links.most_expensive(5)\n",
    "most_expensive_result = links.most_expensive(5)\n",
    "print(f\"Top {5} Most Expensive Movies:\")\n",
    "for movie, budget in most_expensive_result.items():\n",
    "    print(f\"{movie}: {budget}\")"
   ]
  },
  {
   "cell_type": "markdown",
   "id": "f84b267a",
   "metadata": {},
   "source": [
    "<h2>Tags\n",
    "<h2>7. Анализ Топ-N: Представление Результатов\n",
    "<h3>7.1. Топ-5 тегов по количество слов"
   ]
  },
  {
   "cell_type": "markdown",
   "id": "7ea05830",
   "metadata": {},
   "source": [
    "Эта функция покажет вам рейтинг тегов по их \"словесному весу\", выявляя самые содержательные темы."
   ]
  },
  {
   "cell_type": "code",
   "execution_count": 80,
   "id": "978aec72",
   "metadata": {},
   "outputs": [
    {
     "name": "stdout",
     "output_type": "stream",
     "text": [
      "2.87 ms ± 285 µs per loop (mean ± std. dev. of 7 runs, 100 loops each)\n",
      "\n",
      "Топ 5 тэгов с наибольшим количеством слов:\n",
      "Something for everyone in this one... saw it without and plan on seeing it with kids!   |    16 слов\n",
      "the catholic church is the most corrupt organization in history   |    10 слов\n",
      "villain nonexistent or not needed for good story   |    8 слов\n",
      "06 Oscar Nominated Best Movie - Animation   |    7 слов\n",
      "It was melodramatic and kind of dumb   |    7 слов\n"
     ]
    }
   ],
   "source": [
    "n = 5\n",
    "%timeit top_tags_result_timed = tags.most_words(n)\n",
    "top_tags = tags.most_words(n)\n",
    "print(f\"\\nТоп {n} тэгов с наибольшим количеством слов:\")\n",
    "for tag, word_count in top_tags.items():\n",
    "    print(f\"{tag}   |    {word_count} слов\")"
   ]
  },
  {
   "cell_type": "markdown",
   "id": "c849a874",
   "metadata": {},
   "source": [
    "<h3> 7.2. Топ-5 популярных тегов"
   ]
  },
  {
   "cell_type": "markdown",
   "id": "572625e8",
   "metadata": {},
   "source": [
    "Функция обеспечивает получение списка наиболее популярных тегов для анализа трендов."
   ]
  },
  {
   "cell_type": "code",
   "execution_count": 81,
   "id": "589c6a77",
   "metadata": {},
   "outputs": [
    {
     "name": "stdout",
     "output_type": "stream",
     "text": [
      "2.49 ms ± 3.18 µs per loop (mean ± std. dev. of 7 runs, 100 loops each)\n",
      "\n",
      "Топ 5 самых популярных тегов:\n",
      "In Netflix queue   |    кол-во: 131\n",
      "atmospheric   |    кол-во: 36\n",
      "superhero   |    кол-во: 24\n",
      "thought-provoking   |    кол-во: 24\n",
      "funny   |    кол-во: 23\n"
     ]
    }
   ],
   "source": [
    "n = 5\n",
    "%timeit top_popular_tags_result_timed = tags.most_popular(n)\n",
    "top_popular_tags = tags.most_popular(n)\n",
    "\n",
    "print(f\"\\nТоп {n} самых популярных тегов:\")\n",
    "for tag, count in top_popular_tags.items():\n",
    "    print(f\"{tag}   |    кол-во: {count}\")"
   ]
  },
  {
   "cell_type": "markdown",
   "id": "d5ea96ec",
   "metadata": {},
   "source": [
    "<h2>8. Уникальные теги со словом"
   ]
  },
  {
   "cell_type": "markdown",
   "id": "f9e39af8",
   "metadata": {},
   "source": [
    "Функци извлекает список уникальных тегов, содержащих заданное ключевое слово."
   ]
  },
  {
   "cell_type": "code",
   "execution_count": 85,
   "id": "f265b183",
   "metadata": {},
   "outputs": [
    {
     "name": "stdout",
     "output_type": "stream",
     "text": [
      "492 µs ± 13 µs per loop (mean ± std. dev. of 7 runs, 1,000 loops each)\n",
      "\n",
      "Тэги, содержащие слово 'Netflix':\n",
      "In Netflix queue\n",
      "No DVD at Netflix\n",
      "Not available from Netflix\n"
     ]
    }
   ],
   "source": [
    "search_word = \"Netflix\"\n",
    "%timeit matching_tags_result_timed = tags.tags_with(search_word)\n",
    "matching_tags = tags.tags_with(search_word)\n",
    "\n",
    "print(f\"\\nТэги, содержащие слово '{search_word}':\")\n",
    "for tag in matching_tags:\n",
    "    print(f\"{tag}\")"
   ]
  }
 ],
 "metadata": {
  "kernelspec": {
   "display_name": "Python 3",
   "language": "python",
   "name": "python3"
  },
  "language_info": {
   "codemirror_mode": {
    "name": "ipython",
    "version": 3
   },
   "file_extension": ".py",
   "mimetype": "text/x-python",
   "name": "python",
   "nbconvert_exporter": "python",
   "pygments_lexer": "ipython3",
   "version": "3.9.6"
  }
 },
 "nbformat": 4,
 "nbformat_minor": 5
}
